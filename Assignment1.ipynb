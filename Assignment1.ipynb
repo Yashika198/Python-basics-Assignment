{
  "nbformat": 4,
  "nbformat_minor": 0,
  "metadata": {
    "colab": {
      "provenance": []
    },
    "kernelspec": {
      "name": "python3",
      "display_name": "Python 3"
    },
    "language_info": {
      "name": "python"
    }
  },
  "cells": [
    {
      "cell_type": "markdown",
      "source": [
        "1. What is Python, and why is it popular?\n",
        "-> It is a high-level, interpreted programming language known for its simplicity and readability.It was created by Guido Van Rossum and first released in 1991.\n",
        "Features: General Purpose, interpreted, Dynamic Typing, Object-oriented, Extensive standard library.\n",
        "It is popular because it has:\n",
        " Simple syntax: Easy to learn and write\n",
        " Large community: Strong support, lots of tutorials, forums, libraries\n",
        " Versatile usage:Used in many computer science fields\n",
        " Cross-platform: Works on Windows, Linux and MacOS\n",
        " Integration-friendly: can work with C,C++ and Java.\n",
        "\n",
        " 2.What is an interpreter in Python?\n",
        " ->It is a program that reads and executes code line by line. It translates high level code(like Python) into machine code and executes each line immediately as it's read.\n",
        "\n",
        " 3.What are pre-defined keywords in Python?\n",
        " ->Keywords are reserved words in Python.They are a part of language syntax so you cannot use them as identifiers or function names.They have a special meaning to the interpreter.\n",
        " To see list of all keywords:\n",
        " import keyword\n",
        " print(keyword.kwlist)\n",
        " examples: True,False, finally,etc\n",
        "\n",
        " 4.Can keywords be used as variable names?\n",
        " ->In python, keywords cannot be used as variable names- trying to do so will generate a SyntaxError.They are reserved for language syntax and cannot be repurposed.They should remain unambiguous.\n",
        "\n",
        "5.What is mutability in Python?\n",
        "-> Mutability refers to whether or not an object's value can be changed after it is created.\n",
        "Mutable Objects:can be changed in place after creation.\n",
        "example: list, dictionary, set, bytearray\n",
        "Immutable Objects:cannot be changed in place after creation.Any change creates a new object.\n",
        "example: int, float,str,tuple,bool,frozenset"
      ],
      "metadata": {
        "id": "T-HOwHgYK-dT"
      }
    },
    {
      "cell_type": "markdown",
      "source": [
        "6.Why are lists mutable, but tuples are immutable?\n",
        "-> Lists are mutable because\n",
        "Meaning: You can change, add, or remove elements after the list is created.\n",
        "Reason:\n",
        " Lists are designed for collections of items that can change over time.\n",
        " Useful when you need to modify data: e.g., updating elements, sorting, appending new items, etc.\n",
        " Internally, lists are implemented using dynamic arrays that support resizing and modification.\n",
        "\n",
        "Tuples are mutable because\n",
        " Meaning: You cannot change the contents once the tuple is created.\n",
        "Reason:\n",
        " Tuples are used for fixed collections of items, like coordinates or configurations.\n",
        " Their immutability makes them hashable (can be used as dictionary keys or set elements).\n",
        " Safer for data that should not be accidentally modified.\n",
        " Slightly faster and more memory-efficient than lists.\n",
        "\n",
        " 7.What is the difference between “==” and “is” operators in Python?\n",
        "-> ==(Equality Operator)\n",
        " Checks if two values are equal in content.\n",
        " Compares the values of two objects.\n",
        "a = [1, 2, 3]\n",
        "b = [1, 2, 3]\n",
        "print(a == b)   # True → because the values are the same\n",
        "is(Identity Operator)\n",
        "Checks if two variables point to the same object in memory.\n",
        "Compares the identity of the objects.\n",
        "a = [1, 2, 3]\n",
        "b = [1, 2, 3]\n",
        "print(a is b)   # False → different memory locations\n",
        "\n",
        "8.What are logical operators in Python?\n",
        "Logical operators are used to combine conditional statements and return Boolean values (True or False).\n",
        "and\tTrue if both are True\t(True and True)\tTrue\n",
        "or\tTrue if at least one is True\t(True or False)\tTrue\n",
        "not\tInverts the result\t(not True)\tFalse\n",
        "\n",
        "9.What is type casting in Python?\n",
        "->Type casting means converting the data type of a value into another data type. Python supports two types of type casting:\n",
        "a. Implicit Type Casting (Automatic)\n",
        "Python automatically converts one data type to another without user intervention.\n",
        "a = 5       # int\n",
        "b = 2.0     # float\n",
        "result = a + b  # int + float = float\n",
        "print(result)   # Output: 7.0\n",
        "print(type(result))  # <class 'float'>\n",
        "\n",
        "b.Explicit Type Casting (Manual)\n",
        "You manually convert one data type into another using functions\n",
        "# String to int\n",
        "a = \"10\"\n",
        "b = int(a)\n",
        "print(b + 5)   # Output: 15\n",
        "\n",
        "# Float to int\n",
        "x = int(4.7)\n",
        "print(x)       # Output: 4\n",
        "\n",
        "# Int to float\n",
        "y = float(3)\n",
        "print(y)       # Output: 3.0\n",
        "\n",
        "# Int to bool\n",
        "z = bool(0)\n",
        "print(z)       # Output: False\n",
        "\n",
        "# List to tuple\n",
        "l = [1, 2, 3]\n",
        "t = tuple(l)\n",
        "print(t)       # Output: (1, 2, 3)\n",
        "\n",
        "10.What is the difference between implicit and explicit type casting\n",
        "a. Implicit Type Casting\n",
        "Automatically performed by Python.\n",
        "Happens without programmer intervention.\n",
        "Python converts smaller data types to larger data types to avoid data loss.\n",
        "b.Explicit Type Casting\n",
        "Manually done by the programmer using type conversion functions like int(), float(), str(), etc.\n",
        "Used when Python doesn’t automatically convert types or when you want full control."
      ],
      "metadata": {
        "id": "73yyf5DHT1kD"
      }
    },
    {
      "cell_type": "markdown",
      "source": [
        "11.What is the purpose of conditional statements in Python?\n",
        "->Conditional statements in Python—like if, elif, and else—are essential control‑flow tools that let your program make decisions and choose different execution paths based on conditions.\n",
        "Purpose of conditional statements:\n",
        "a. Decision-making based on conditions\n",
        "b. Control the flow of your program\n",
        "c. Keep code clear and efficient\n",
        "\n",
        "12.How does the elif statement work?\n",
        "->The elif statement in Python is short for “else if”, and it allows you to test additional conditions only if the preceding if (or earlier elif) was False.\n",
        "Only one block runs:\n",
        "As soon as one condition succeeds, the entire if/elif/else chain exits. That means later conditions aren’t even checked.\n",
        "\n",
        "13.What is the difference between for and while loops?\n",
        "->For loop:\n",
        "Iterates over a sequence: Strings, lists, tuples, ranges, dictionaries, generators, etc.—any iterable.\n",
        "Known iteration count: You know beforehand how many times it will run—for example, for i in range(5) runs exactly 5 times.\n",
        "Faster & cleaner: Python's iterator system is optimized; for loops tend to be quicker than equivalent while loops.\n",
        "\n",
        "While loop:\n",
        "Runs until a condition changes: It keeps looping while condition is True.\n",
        "Unknown iteration count: Great when you don't know in advance how many loops you'll need (e.g., waiting for user input, sensor data, condition-driven logic) .\n",
        "More control — but riskier: Offers flexibility (you can change variables mid-loop), but also a higher risk of infinite loops if you forget to modify the condition\n",
        "\n",
        "14.Describe a scenario where a while loop is more suitable than a for loop.\n",
        "->Imagine writing a number‑guessing game where the program asks, “Guess the number,” and keeps prompting the user until they get it right. Since you don’t know how many guesses it will take, you can’t use a for loop with a fixed range. A while loop is perfect:\n",
        "correct_number = 7\n",
        "guess = None\n",
        "while guess != correct_number:\n",
        "    guess = int(input(\"Guess the number: \"))\n",
        "    if guess < correct_number:\n",
        "        print(\"Too low, try again.\")\n",
        "    elif guess > correct_number:\n",
        "        print(\"Too high, try again.\")\n",
        "print(\"You've guessed correctly!\")\n",
        "\n",
        "One need not know the number of attempts in advance.\n",
        "\n",
        "A for loop would be impractical—you’d have to guess a maximum number of iterations or break manually inside it."
      ],
      "metadata": {
        "id": "JnFOKCsEcDNU"
      }
    },
    {
      "cell_type": "markdown",
      "source": [
        "Practical Questions"
      ],
      "metadata": {
        "id": "V9T_SnHJ6qSm"
      }
    },
    {
      "cell_type": "code",
      "source": [
        "# Write a Python program to print \"Hello, World!\n",
        "print(\"Hello,World!\")"
      ],
      "metadata": {
        "colab": {
          "base_uri": "https://localhost:8080/"
        },
        "id": "5jtqbC_E6xlH",
        "outputId": "a87ddbd3-1a67-4376-9691-fe21c35f44fd"
      },
      "execution_count": 1,
      "outputs": [
        {
          "output_type": "stream",
          "name": "stdout",
          "text": [
            "Hello,World!\n"
          ]
        }
      ]
    },
    {
      "cell_type": "code",
      "source": [
        "# Write a Python program that displays your name and age\n",
        "name=input(\"Enter your name\")\n",
        "age=int(input(\"Enter your age\"))\n",
        "print(\"Name:\",name)\n",
        "print(\"Age:\",age)"
      ],
      "metadata": {
        "colab": {
          "base_uri": "https://localhost:8080/"
        },
        "id": "5mipR4dY7C6o",
        "outputId": "7f085511-f382-483c-9b1f-714bc294a9ef"
      },
      "execution_count": 2,
      "outputs": [
        {
          "output_type": "stream",
          "name": "stdout",
          "text": [
            "Enter your nameYashika Gupta\n",
            "Enter your age21\n",
            "Name: Yashika Gupta\n",
            "Age: 21\n"
          ]
        }
      ]
    },
    {
      "cell_type": "code",
      "source": [
        "#Write code to print all the pre-defined keywords in Python using the keyword library\n",
        "import keyword\n",
        "print(keyword.kwlist)"
      ],
      "metadata": {
        "colab": {
          "base_uri": "https://localhost:8080/"
        },
        "id": "tU-avHH5705H",
        "outputId": "7ab982e9-7ac9-46eb-e72b-4d30d6c24700"
      },
      "execution_count": 3,
      "outputs": [
        {
          "output_type": "stream",
          "name": "stdout",
          "text": [
            "['False', 'None', 'True', 'and', 'as', 'assert', 'async', 'await', 'break', 'class', 'continue', 'def', 'del', 'elif', 'else', 'except', 'finally', 'for', 'from', 'global', 'if', 'import', 'in', 'is', 'lambda', 'nonlocal', 'not', 'or', 'pass', 'raise', 'return', 'try', 'while', 'with', 'yield']\n"
          ]
        }
      ]
    },
    {
      "cell_type": "code",
      "source": [
        "#Write a program that checks if a given word is a Python keyword.\n",
        "import keyword\n",
        "word=input(\"Enter a word\")\n",
        "if word in keyword.kwlist:\n",
        "  print(word,\"is a keyword\")\n",
        "else:\n",
        "  print(word,\"is not a keyword\")"
      ],
      "metadata": {
        "colab": {
          "base_uri": "https://localhost:8080/"
        },
        "id": "SiUdJAsw8KEw",
        "outputId": "fa0176df-1eff-4fb9-a15d-73ee8bff15c5"
      },
      "execution_count": 4,
      "outputs": [
        {
          "output_type": "stream",
          "name": "stdout",
          "text": [
            "Enter a wordfinally\n",
            "finally is a keyword\n"
          ]
        }
      ]
    },
    {
      "cell_type": "code",
      "source": [
        "#Create a list and tuple in Python, and demonstrate how attempting to change an element works differently for each.\n",
        "my_l=[10,20,30]\n",
        "my_t=(10,20,30)\n",
        "my_l[1]=99\n",
        "print(\"List after modification:\",my_l)\n",
        "#try same on tuple\n",
        "try:\n",
        "  my_t[1]=99\n",
        "except TypeError as e:\n",
        "  print(\"Tuple after modification:\",my_t)"
      ],
      "metadata": {
        "colab": {
          "base_uri": "https://localhost:8080/"
        },
        "id": "tzZsFKWd87fm",
        "outputId": "71d5e1bf-7c80-47a1-d97d-ad4f5d9824de"
      },
      "execution_count": 11,
      "outputs": [
        {
          "output_type": "stream",
          "name": "stdout",
          "text": [
            "List after modification: [10, 99, 30]\n",
            "Tuple after modification: (10, 20, 30)\n"
          ]
        }
      ]
    },
    {
      "cell_type": "code",
      "source": [
        "#Write a function to demonstrate the behavior of mutable and immutable arguments.\n",
        "#Mutable args\n",
        "def mutable_args(lst):\n",
        "  print(lst,id(lst))\n",
        "  lst.append(4)\n",
        "  print(lst,id(lst))\n",
        "b=[1,2,3]\n",
        "print(b,id(b))\n",
        "mutable_args(b)\n",
        "print(b,id(b))\n",
        "#Immutable args\n",
        "def immutable_args(x):\n",
        "  print(x,id(x))\n",
        "  x+=1\n",
        "  print(x,id(x))\n",
        "a=5\n",
        "print(a,id(a))\n",
        "immutable_args(a)\n",
        "print(a,id(a))\n"
      ],
      "metadata": {
        "colab": {
          "base_uri": "https://localhost:8080/"
        },
        "id": "ElYMEeEW_D9-",
        "outputId": "d4f73518-98eb-490d-c2c6-99ddb75d0375"
      },
      "execution_count": 14,
      "outputs": [
        {
          "output_type": "stream",
          "name": "stdout",
          "text": [
            "[1, 2, 3] 137375319213504\n",
            "[1, 2, 3] 137375319213504\n",
            "[1, 2, 3, 4] 137375319213504\n",
            "[1, 2, 3, 4] 137375319213504\n",
            "5 10757864\n",
            "5 10757864\n",
            "6 10757896\n",
            "5 10757864\n"
          ]
        }
      ]
    },
    {
      "cell_type": "code",
      "source": [
        "#Write a program that performs basic arithmetic operations on two user-input numbers.\n",
        "num1 = float(input(\"Enter first number: \"))\n",
        "num2 = float(input(\"Enter second number: \"))\n",
        "print(\"Choose operation: +  -  *  /  %  **  //\")\n",
        "op = input(\"Enter an operator: \")\n",
        "if op == \"+\":\n",
        "    result = num1 + num2\n",
        "elif op == \"-\":\n",
        "    result = num1 - num2\n",
        "elif op == \"*\":\n",
        "    result = num1 * num2\n",
        "elif op == \"/\":\n",
        "    if num2 != 0:\n",
        "        result = num1 / num2\n",
        "    else:\n",
        "        result = \"Error: Division by zero!\"\n",
        "elif op == \"%\":\n",
        "    result = num1 % num2\n",
        "elif op == \"**\":\n",
        "    result = num1 ** num2\n",
        "elif op == \"//\":\n",
        "    result = num1 // num2\n",
        "else:\n",
        "    result = f\"Invalid operator: {op}\"\n",
        "print(f\"{num1} {op} {num2} = {result}\")\n"
      ],
      "metadata": {
        "colab": {
          "base_uri": "https://localhost:8080/"
        },
        "id": "OcBQm9YcB2tq",
        "outputId": "95ffb48d-f7f9-4463-e05a-bf771e87cd6a"
      },
      "execution_count": 15,
      "outputs": [
        {
          "output_type": "stream",
          "name": "stdout",
          "text": [
            "Enter first number: 5\n",
            "Enter second number: 7\n",
            "Choose operation: +  -  *  /  %  **  //\n",
            "Enter an operator: **\n",
            "5.0 ** 7.0 = 78125.0\n"
          ]
        }
      ]
    },
    {
      "cell_type": "code",
      "source": [
        "#Write a program to demonstrate the use of logical operators.\n",
        "a,b,c=True,False,True\n",
        "print(a and b)\n",
        "print(b or c)\n",
        "print(not b)\n",
        "print(5 and 0)\n",
        "print(5 or 0)\n",
        "print(\"\" or \"Hii\")"
      ],
      "metadata": {
        "colab": {
          "base_uri": "https://localhost:8080/"
        },
        "id": "dIb3GjucC7xi",
        "outputId": "5fff5dc6-cfc6-4f34-ef3d-1ae3dfd66dc4"
      },
      "execution_count": 16,
      "outputs": [
        {
          "output_type": "stream",
          "name": "stdout",
          "text": [
            "False\n",
            "True\n",
            "True\n",
            "0\n",
            "5\n",
            "Hii\n"
          ]
        }
      ]
    },
    {
      "cell_type": "code",
      "source": [
        "# Write a Python program to convert user input from string to integer, float, and boolean types.\n",
        "num1=int(input(\"enter a number\"))\n",
        "print(type(num1))\n",
        "num2=float(input(\"enter a number\"))\n",
        "print(type(num2))\n",
        "str_i=input(\"enter an input\")\n",
        "def str_to_bool(user_i):\n",
        "  if user_i in('true','t','yes','y','1'):\n",
        "    return True\n",
        "  elif user_i in('false','f','no','n','0'):\n",
        "    return False\n",
        "  else:\n",
        "    raise ValueError\n",
        "\n",
        "str_to_bool(str_i)"
      ],
      "metadata": {
        "colab": {
          "base_uri": "https://localhost:8080/"
        },
        "id": "2CL_yBPMDo2j",
        "outputId": "a51120ea-fdf0-4fa7-e20d-d9a04de60edf"
      },
      "execution_count": 20,
      "outputs": [
        {
          "name": "stdout",
          "output_type": "stream",
          "text": [
            "enter a number6\n",
            "<class 'int'>\n",
            "enter a number7.0\n",
            "<class 'float'>\n",
            "enter an inputyes\n"
          ]
        },
        {
          "output_type": "execute_result",
          "data": {
            "text/plain": [
              "True"
            ]
          },
          "metadata": {},
          "execution_count": 20
        }
      ]
    },
    {
      "cell_type": "code",
      "source": [
        "#Write code to demonstrate type casting with list elements.\n",
        "nums=['1','2','3']\n",
        "print(nums)\n",
        "nums_i=[int(x) for x in nums]\n",
        "print(nums_i)"
      ],
      "metadata": {
        "colab": {
          "base_uri": "https://localhost:8080/"
        },
        "id": "l8fh2hgLFzIe",
        "outputId": "192878ab-57d0-4865-8582-4f1d2e6baab2"
      },
      "execution_count": 24,
      "outputs": [
        {
          "output_type": "stream",
          "name": "stdout",
          "text": [
            "['1', '2', '3']\n",
            "[1, 2, 3]\n"
          ]
        }
      ]
    },
    {
      "cell_type": "code",
      "source": [
        "#Write a program that checks if a number is positive, negative, or zero\n",
        "num=int(input(\"Enter a number\"))\n",
        "if num>0:\n",
        "  print(\"Number is positive\")\n",
        "elif num<0:\n",
        "  print(\"Number is negative\")\n",
        "else:\n",
        "  print(\"Number is zero\")"
      ],
      "metadata": {
        "colab": {
          "base_uri": "https://localhost:8080/"
        },
        "id": "pfckKQ7HGfpm",
        "outputId": "f14cea92-b4b6-45cf-8ef2-8c561bfa173c"
      },
      "execution_count": 25,
      "outputs": [
        {
          "output_type": "stream",
          "name": "stdout",
          "text": [
            "Enter a number67\n",
            "Number is positive\n"
          ]
        }
      ]
    },
    {
      "cell_type": "code",
      "source": [
        "# Write a for loop to print numbers from 1 to 10.\n",
        "for i in range(1,11):\n",
        "  print(i)"
      ],
      "metadata": {
        "colab": {
          "base_uri": "https://localhost:8080/"
        },
        "id": "XlaL3jRAG6XH",
        "outputId": "29ffe174-326c-4289-df77-65bf32ddad49"
      },
      "execution_count": 26,
      "outputs": [
        {
          "output_type": "stream",
          "name": "stdout",
          "text": [
            "1\n",
            "2\n",
            "3\n",
            "4\n",
            "5\n",
            "6\n",
            "7\n",
            "8\n",
            "9\n",
            "10\n"
          ]
        }
      ]
    },
    {
      "cell_type": "code",
      "source": [
        "#Write a Python program to find the sum of all even numbers between 1 and 50.\n",
        "sum=0\n",
        "for i in range(1,51):\n",
        "  if i%2==0:\n",
        "    sum+=i\n",
        "print(\"Sum:\",sum)"
      ],
      "metadata": {
        "colab": {
          "base_uri": "https://localhost:8080/"
        },
        "id": "GLziX4atHJEV",
        "outputId": "f03ee2bf-c999-43bf-b265-61ae32497b7f"
      },
      "execution_count": 27,
      "outputs": [
        {
          "output_type": "stream",
          "name": "stdout",
          "text": [
            "Sum: 650\n"
          ]
        }
      ]
    },
    {
      "cell_type": "code",
      "source": [
        "# Write a program to reverse a string using a while loop\n",
        "str1=input(\"Enter a string\")\n",
        "rev_str=\"\"\n",
        "index=len(str1)-1\n",
        "while index>=0:\n",
        "  rev_str += str1[index]\n",
        "  index-=1\n",
        "print(\"Reversed string:\",rev_str)"
      ],
      "metadata": {
        "colab": {
          "base_uri": "https://localhost:8080/"
        },
        "id": "Gy0QfrWvHbxz",
        "outputId": "c2afa2bb-3582-43e7-edfa-483a7d656efd"
      },
      "execution_count": 29,
      "outputs": [
        {
          "output_type": "stream",
          "name": "stdout",
          "text": [
            "Enter a stringGupta\n",
            "Reversed string: atpuG\n"
          ]
        }
      ]
    },
    {
      "cell_type": "code",
      "source": [
        "# Write a Python program to calculate the factorial of a number provided by the user using a while loop\n",
        "num = int(input(\"Enter a non-negative integer: \"))\n",
        "fact = 1\n",
        "i = 1\n",
        "\n",
        "if num < 0:\n",
        "    print(\"Factorial is not defined for negative numbers.\")\n",
        "else:\n",
        "    while i <= num:\n",
        "        fact *= i\n",
        "        i += 1\n",
        "    print(f\"Factorial of {num} is {fact}\")\n"
      ],
      "metadata": {
        "colab": {
          "base_uri": "https://localhost:8080/"
        },
        "id": "4jun4a8jIRZU",
        "outputId": "227fa8b4-7d29-4652-bb72-f129c72ea391"
      },
      "execution_count": 30,
      "outputs": [
        {
          "output_type": "stream",
          "name": "stdout",
          "text": [
            "Enter a non-negative integer: 5\n",
            "Factorial of 5 is 120\n"
          ]
        }
      ]
    }
  ]
}